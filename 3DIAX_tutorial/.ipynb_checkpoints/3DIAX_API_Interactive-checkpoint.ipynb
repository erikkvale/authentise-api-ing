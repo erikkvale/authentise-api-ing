{
 "cells": [
  {
   "cell_type": "code",
   "execution_count": 36,
   "metadata": {},
   "outputs": [],
   "source": [
    "import requests\n",
    "from config.user import USERNAME, PASSWORD"
   ]
  },
  {
   "cell_type": "markdown",
   "metadata": {},
   "source": [
    "#### Client Authentication (assumes registration, *takes a bow*)"
   ]
  },
  {
   "cell_type": "code",
   "execution_count": 56,
   "metadata": {},
   "outputs": [],
   "source": [
    "def authentise_login(username, password, url='https://users.authentise.com/sessions/'):\n",
    "    \"\"\"\n",
    "    Returns a requests.Session() object if\n",
    "    the supplied username and password were\n",
    "    successfully authenticated\n",
    "    \"\"\"\n",
    "    session = requests.Session()\n",
    "    payload = {\n",
    "        'username': username,\n",
    "        'password': password,\n",
    "    }\n",
    "    response = session.post(url, json=payload)\n",
    "    if _check_response(response):\n",
    "        return session\n",
    "    \n",
    "def _check_response(response):\n",
    "    if response.ok:\n",
    "        return True\n",
    "    else:\n",
    "        raise requests.HTTPError(\"Bad response {}\".format(response.content))"
   ]
  },
  {
   "cell_type": "code",
   "execution_count": 57,
   "metadata": {},
   "outputs": [],
   "source": [
    "session = authentise_login(USERNAME, PASSWORD)"
   ]
  },
  {
   "cell_type": "markdown",
   "metadata": {},
   "source": [
    "#### Now create a new model resource "
   ]
  },
  {
   "cell_type": "code",
   "execution_count": 63,
   "metadata": {},
   "outputs": [],
   "source": [
    "def upload_model(session, resource_name, \n",
    "                 auto_align=False, url='https://models.authentise.com/model'):\n",
    "    init_payload = {\n",
    "        'auto-align': auto_align,\n",
    "        'name': resource_name,\n",
    "    }\n",
    "    init_response = session.post(url, json=init_payload)\n",
    "    if _check_response(init_response):\n",
    "        return init_response\n",
    "    \n"
   ]
  },
  {
   "cell_type": "code",
   "execution_count": 64,
   "metadata": {},
   "outputs": [],
   "source": [
    "response = upload_model(session, '10mm Wrench')"
   ]
  },
  {
   "cell_type": "code",
   "execution_count": 73,
   "metadata": {},
   "outputs": [],
   "source": [
    "unpacked_response = response.json()['resources'][0]"
   ]
  },
  {
   "cell_type": "code",
   "execution_count": 75,
   "metadata": {},
   "outputs": [
    {
     "data": {
      "text/plain": [
       "'https://data.authentise.com/model/1a12b4fb-2db1-48a9-a5db-b69c9c26a617/'"
      ]
     },
     "execution_count": 75,
     "metadata": {},
     "output_type": "execute_result"
    }
   ],
   "source": [
    "model_uri = unpacked_response['uri']\n",
    "model_uri"
   ]
  },
  {
   "cell_type": "code",
   "execution_count": 78,
   "metadata": {},
   "outputs": [
    {
     "data": {
      "text/plain": [
       "'https://data.authentise.com/content/476ff497-c53e-48b1-a3b7-87f62249e2be/?method=PUT&signature=Imh0dHBzOi8vZGF0YS5hdXRoZW50aXNlLmNvbS9jb250ZW50LzQ3NmZmNDk3LWM1M2UtNDhiMS1hM2I3LTg3ZjYyMjQ5ZTJiZS8_bWV0aG9kPVBVVCI.Djwiwg.AqIV0Gf_y53ebmeOH4G2Cvv1yqw'"
      ]
     },
     "execution_count": 78,
     "metadata": {},
     "output_type": "execute_result"
    }
   ],
   "source": [
    "upload_uri = unpacked_response['upload-location']\n",
    "upload_uri"
   ]
  },
  {
   "cell_type": "code",
   "execution_count": null,
   "metadata": {},
   "outputs": [],
   "source": []
  }
 ],
 "metadata": {
  "kernelspec": {
   "display_name": "Python 3",
   "language": "python",
   "name": "python3"
  },
  "language_info": {
   "codemirror_mode": {
    "name": "ipython",
    "version": 3
   },
   "file_extension": ".py",
   "mimetype": "text/x-python",
   "name": "python",
   "nbconvert_exporter": "python",
   "pygments_lexer": "ipython3",
   "version": "3.6.5"
  }
 },
 "nbformat": 4,
 "nbformat_minor": 2
}
