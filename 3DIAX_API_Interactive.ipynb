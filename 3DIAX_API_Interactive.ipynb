{
 "cells": [
  {
   "cell_type": "code",
   "execution_count": 2,
   "metadata": {},
   "outputs": [],
   "source": [
    "import requests\n",
    "from config.user import USERNAME, PASSWORD\n",
    "from utils.optimizations import lazyproperty\n",
    "        \n",
    "\n",
    "class AuthentiseApiHandle:\n",
    "    \"\"\"\n",
    "    A starter class to encapsulate some common\n",
    "    interactions with Authentise's API(s)\n",
    "    \n",
    "    **NOTE** Assumes registration of user and\n",
    "    that the user has an Authentise username and\n",
    "    password\n",
    "    \"\"\"\n",
    "\n",
    "    _3DIAX_RESOURCE_URLS = {\n",
    "        'sessions': 'https://users.authentise.com/sessions/',\n",
    "        'models': \"https://models.authentise.com/model/\",\n",
    "    }\n",
    "    \n",
    "    def __init__(self, username, password):\n",
    "        self._username = username\n",
    "        self._password = password\n",
    "        self._session, self._init_response = self._init_session()\n",
    "    \n",
    "    \n",
    "    def _check_response(self, response):\n",
    "        if response.ok:\n",
    "            return True\n",
    "        else:\n",
    "            raise requests.HTTPError(\n",
    "                \"Bad response {}\".format(response.text)\n",
    "            )\n",
    "\n",
    "            \n",
    "    def _init_session(self, url=_3DIAX_RESOURCE_URLS['sessions']):\n",
    "        \"\"\"\n",
    "        Returns a requests.Session() object if\n",
    "        the supplied username and password were\n",
    "        successfully authenticated\n",
    "        \"\"\"\n",
    "        session = requests.Session()\n",
    "        payload = {\n",
    "            'username': self._username,\n",
    "            'password': self._password,\n",
    "        }\n",
    "        response = session.post(url, json=payload)\n",
    "        if self._check_response(response):\n",
    "            return (session, response)\n",
    "\n",
    "        \n",
    "    def create_model_resource(self, model_name, \n",
    "                              url=_3DIAX_RESOURCE_URLS['models']):\n",
    "        \"\"\"\n",
    "        Create a new model resource for\n",
    "        the current session user\n",
    "        \"\"\"\n",
    "        payload = {\n",
    "            \"name\": model_name,\n",
    "        }\n",
    "        response = self._session.post(url, json=payload)\n",
    "        if self._check_response(response):\n",
    "            return response\n",
    "        \n",
    "\n",
    "    @lazyproperty\n",
    "    def resources(self, url=_3DIAX_RESOURCE_URLS['models']):\n",
    "        \"\"\"\n",
    "        Returns the the current model resource(s)\n",
    "        for the current session user. One time compute\n",
    "        to avoid hitting server too many times.\n",
    "        \"\"\"\n",
    "        response = self._session.get(url)\n",
    "        if self._check_response(response):\n",
    "            # Convert JSON to Python dict, get resources based on \n",
    "            # current response schema response resources is a list with\n",
    "            # a singular parent dictionary with various nested structures\n",
    "            resources = response.json()\n",
    "            self.resources_links = resources['links']\n",
    "            self.resources_meta = resources['meta']\n",
    "            return resources['resources'][0]\n",
    "\n",
    "\n",
    "    def __repr__(self):\n",
    "        return \"{} active session for {}\".format(\n",
    "            self.__class__.__name__, \n",
    "            self._init_response.json()['name']\n",
    "        )"
   ]
  },
  {
   "cell_type": "code",
   "execution_count": 3,
   "metadata": {},
   "outputs": [],
   "source": [
    "# New instance\n",
    "api_handle = AuthentiseApiHandle(USERNAME, PASSWORD)"
   ]
  },
  {
   "cell_type": "code",
   "execution_count": 4,
   "metadata": {},
   "outputs": [
    {
     "data": {
      "text/plain": [
       "AuthentiseApiHandle active session for Erik"
      ]
     },
     "execution_count": 4,
     "metadata": {},
     "output_type": "execute_result"
    }
   ],
   "source": [
    "# repr\n",
    "api_handle"
   ]
  },
  {
   "cell_type": "code",
   "execution_count": 7,
   "metadata": {},
   "outputs": [
    {
     "data": {
      "text/plain": [
       "dict_keys(['analyses', 'callback', 'children', 'content', 'created', 'name', 'parents', 'rights', 'size', 'snapshot', 'snapshot_content', 'status', 'type', 'updated', 'upload-location', 'uri', 'user_uri', 'polygons', 'file_size', 'volume_mm', 'surface_area_mm', 'unit'])"
      ]
     },
     "execution_count": 7,
     "metadata": {},
     "output_type": "execute_result"
    }
   ],
   "source": [
    "# Grab resources, this seems to be the 'try it out' default model and impervious\n",
    "# to any new STL uploads. Just returning keys here, no values.\n",
    "\n",
    "api_handle.resources.keys()"
   ]
  },
  {
   "cell_type": "code",
   "execution_count": 9,
   "metadata": {},
   "outputs": [
    {
     "data": {
      "text/plain": [
       "dict_keys(['self', 'next', 'prev'])"
      ]
     },
     "execution_count": 9,
     "metadata": {},
     "output_type": "execute_result"
    }
   ],
   "source": [
    "api_handle.resources_links.keys()"
   ]
  },
  {
   "cell_type": "code",
   "execution_count": 11,
   "metadata": {},
   "outputs": [
    {
     "data": {
      "text/plain": [
       "dict_keys(['count'])"
      ]
     },
     "execution_count": 11,
     "metadata": {},
     "output_type": "execute_result"
    }
   ],
   "source": [
    "api_handle.resources_meta.keys()"
   ]
  },
  {
   "cell_type": "code",
   "execution_count": null,
   "metadata": {},
   "outputs": [],
   "source": []
  }
 ],
 "metadata": {
  "kernelspec": {
   "display_name": "Python 3",
   "language": "python",
   "name": "python3"
  },
  "language_info": {
   "codemirror_mode": {
    "name": "ipython",
    "version": 3
   },
   "file_extension": ".py",
   "mimetype": "text/x-python",
   "name": "python",
   "nbconvert_exporter": "python",
   "pygments_lexer": "ipython3",
   "version": "3.6.5"
  }
 },
 "nbformat": 4,
 "nbformat_minor": 2
}
